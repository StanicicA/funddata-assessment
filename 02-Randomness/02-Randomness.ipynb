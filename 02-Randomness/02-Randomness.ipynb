{
 "cells": [
  {
   "cell_type": "markdown",
   "id": "1081c1ea",
   "metadata": {},
   "source": [
    "# Randomness\n",
    "*In this lecture we will learn about randomness and pseudo-random numbers*"
   ]
  },
  {
   "cell_type": "code",
   "execution_count": 2,
   "id": "19984cfb",
   "metadata": {},
   "outputs": [],
   "source": [
    "# Firstly we will import Numpy for generating numbers\n",
    "import numpy as np"
   ]
  },
  {
   "cell_type": "markdown",
   "id": "fee37fe5",
   "metadata": {},
   "source": [
    "# Simulating a Coin Flip\n",
    "\n",
    "The following code flips one coin, giving a 0 or a 1.\n",
    "\n",
    "We can interpret a 1 as heads and a 0 as tails.\n",
    "\n",
    "The probability of getting a 1 is 0.5.\n",
    "\n",
    "This means the coin is fair - a 50/50 chance of heads/tails.\n",
    "\n",
    "\n",
    "Probabilities are numbers between 0 and 1, inclusive.\n",
    "\n",
    "If an event happens with probability 0, it means it has no chance of happening.\n",
    "\n",
    "A 1 means it will definitely happen.\n",
    "\n",
    "A probability of 0.1 means a 10% chance, 0.2 means a 20% chance, and so on.\n",
    "\n",
    "Note: We will just use the np.random.binomial() function for now, ignoring what it might mean"
   ]
  },
  {
   "cell_type": "code",
   "execution_count": 4,
   "id": "c995ab19",
   "metadata": {},
   "outputs": [
    {
     "data": {
      "text/plain": [
       "1"
      ]
     },
     "execution_count": 4,
     "metadata": {},
     "output_type": "execute_result"
    }
   ],
   "source": [
    "# Flip a fair coin.\n",
    "np.random.binomial(1, 0.5)"
   ]
  },
  {
   "cell_type": "markdown",
   "id": "8cb215e3",
   "metadata": {},
   "source": [
    "Note that every time we re-run this notebook we will get a new coin flip.\n",
    "\n",
    "The result above is a 1 for me but might be a 0 for you.\n",
    "\n",
    "That will happen throughout this notebook."
   ]
  },
  {
   "cell_type": "markdown",
   "id": "aeb0844c",
   "metadata": {},
   "source": [
    "# Repeated Flips\n",
    "\n",
    "A single coin flip is not very interesting.\n",
    "\n",
    "How about we flip a fair coin 100 times?\n",
    "\n",
    "We can supply a third parameter to the function, the 100."
   ]
  },
  {
   "cell_type": "code",
   "execution_count": 6,
   "id": "00a4a639",
   "metadata": {},
   "outputs": [
    {
     "data": {
      "text/plain": [
       "array([0, 1, 0, 0, 0, 1, 0, 0, 0, 1, 1, 0, 0, 0, 1, 1, 0, 0, 1, 0, 0, 1,\n",
       "       0, 0, 1, 1, 1, 0, 1, 0, 1, 0, 1, 1, 0, 0, 1, 1, 1, 0, 1, 1, 0, 0,\n",
       "       1, 0, 1, 1, 0, 1, 0, 1, 1, 0, 1, 1, 0, 1, 0, 0, 1, 0, 0, 1, 1, 1,\n",
       "       1, 0, 0, 0, 1, 1, 0, 1, 1, 1, 0, 1, 0, 0, 0, 0, 1, 0, 0, 1, 0, 0,\n",
       "       1, 1, 1, 0, 0, 1, 0, 0, 1, 0, 0, 0])"
      ]
     },
     "execution_count": 6,
     "metadata": {},
     "output_type": "execute_result"
    }
   ],
   "source": [
    "# Flip a fair coin 100 times.\n",
    "np.random.binomial(1, 0.5, 100)"
   ]
  },
  {
   "cell_type": "markdown",
   "id": "7fab2162",
   "metadata": {},
   "source": [
    "The outcome of each flip is represented by a 0 or a 1.\n",
    "\n",
    "While it is interesting to see each flip, sometimes we only want to know the total number of heads.\n",
    "\n",
    "If we delete the third parameter - the 100 - and change the first to 100, here's what happens."
   ]
  },
  {
   "cell_type": "code",
   "execution_count": 7,
   "id": "1cd86b3d",
   "metadata": {},
   "outputs": [
    {
     "data": {
      "text/plain": [
       "46"
      ]
     },
     "execution_count": 7,
     "metadata": {},
     "output_type": "execute_result"
    }
   ],
   "source": [
    "# Flip a fair coin 100 times, giving only the total number of heads.\n",
    "np.random.binomial(100, 0.5)"
   ]
  },
  {
   "cell_type": "markdown",
   "id": "62f625d1",
   "metadata": {},
   "source": [
    "At the time of writing, the output above is 46.\n",
    "\n",
    "Again, it might be (in fact, probably be) different for you.\n",
    "\n",
    "Note that we have lost some detail having moved from a list of 0's and 1's to a single number representing the number of heads.\n",
    "\n",
    "I do not know which 46 of the 100 coin flips came up heads.\n",
    "\n",
    "It might have been the first 46, for all I know, with the last 54 coming up tails.\n",
    "\n",
    "Indeed the probability of that is the same as the probability of any other sequence of 46 1's and 54 0's.\n",
    "\n",
    "A lot of probability focuses on the relationship between actual events - seeing the list of underlying outcomes - and summaries of the events - seeing only the total number of heads, for instance."
   ]
  },
  {
   "cell_type": "markdown",
   "id": "68ddf33e",
   "metadata": {},
   "source": [
    "# Twice 50/50\n",
    "One hundred coin flips is lot - we will reduce it to ten coin flips for simplicity.\n",
    "\n",
    "Sometimes when we ask numpy to flip ten coins, we'll get five heads.\n",
    "\n",
    "The following code repeatedly flips 10 coins and prints out the first three times we get 5 heads."
   ]
  },
  {
   "cell_type": "code",
   "execution_count": 12,
   "id": "f29ee67c",
   "metadata": {},
   "outputs": [
    {
     "name": "stdout",
     "output_type": "stream",
     "text": [
      "[0 0 0 1 1 0 0 1 1 1]\n",
      "[0 1 0 0 0 1 1 0 1 1]\n",
      "[0 1 1 0 1 1 0 1 0 0]\n",
      "Total generated: 7\n"
     ]
    }
   ],
   "source": [
    "# Keep flipping coins until we get three examples of getting five heads in ten coin tosses.\n",
    "\n",
    "# Number of examples.\n",
    "N = 3\n",
    "\n",
    "# Keep track of number of arrays generated.\n",
    "total_no = 0\n",
    "\n",
    "# Keep trying until we get three examples.\n",
    "while N > 0:\n",
    "    # Add 1 to total.\n",
    "    total_no = total_no + 1\n",
    "    # Toss 10 coins.\n",
    "    tosses = np.random.binomial(1, 0.5, 10)\n",
    "    # Check if we got five heads.\n",
    "    if tosses.sum() == 5:\n",
    "        # If we got 5 heads, print the list of heads/tails.\n",
    "        print(tosses)\n",
    "        # Reduce the number of examples left to find by 1.\n",
    "        N = N - 1\n",
    "\n",
    "print(f'Total generated: {total_no}')"
   ]
  },
  {
   "cell_type": "markdown",
   "id": "b25e0054",
   "metadata": {},
   "source": [
    "Listed above are three examples of ten fair coins being flipped.\n",
    "\n",
    "Each 1 represents a head and each 0 a tail.\n",
    "\n",
    "The three lists of ten 0's and 1's might be identical, but it is far more likely that at least one of them is different.\n",
    "\n",
    "Indeed, it is most likely that all three are different from each other.\n",
    "\n",
    "Here is what the output looks like for me at the time of writing.\n",
    "\n",
    "[0 0 0 1 1 0 0 1 1 1]\n",
    "[0 1 0 0 0 1 1 0 1 1]\n",
    "[0 1 1 0 1 1 0 1 0 0]\n",
    "\n",
    "The first coin flip in each list came up tails - the three 0's at the start of each line.\n",
    "\n",
    "The second flip came up tails as well in the first example and heads in the other two examples.\n",
    "\n",
    "Likewise, the third coin flip can up tails for the first and heads for the second and third in the last example.\n",
    "\n",
    "They are all different but share a common property: there are five 1's, or five heads, in each set of ten coin flips.\n",
    "\n",
    "How many other ways are there to flip ten coins and get five heads we will see in the next chapter"
   ]
  },
  {
   "cell_type": "markdown",
   "id": "1aa7bf9b",
   "metadata": {},
   "source": [
    "# Counting Heads\n",
    "We could get numpy to keep flipping ten coins, tracking each time it gets five heads.\n",
    "\n",
    "Eventually we would likely get all the possibilities, although we would also likely get some duplicates.\n",
    "\n",
    "But how would we know when to stop flipping coins?\n",
    "\n",
    "How would we know we had them all?\n",
    "\n",
    "It would be better to have an analytical method for counting the number of possibilities - based on logic, on deduction.\n",
    "\n",
    "I will try to convince you that the following calculation gives the number of possibilities."
   ]
  },
  {
   "cell_type": "code",
   "execution_count": 14,
   "id": "55025959",
   "metadata": {},
   "outputs": [
    {
     "data": {
      "text/plain": [
       "252"
      ]
     },
     "execution_count": 14,
     "metadata": {},
     "output_type": "execute_result"
    }
   ],
   "source": [
    "(10 * 9 * 8 * 7 * 6) // (5 * 4 * 3 * 2 * 1)"
   ]
  },
  {
   "cell_type": "markdown",
   "id": "c8bc0a53",
   "metadata": {},
   "source": [
    "This is a calculation involving the numbers 1 to 10, multiplication represented by the symbol * and division using the symbol /.\n",
    "\n",
    "The parentheses here are just for grouping terms together to specify that the eight multiplications should happen before the single division.\n",
    "\n",
    "Note: technically we should use // here instead of / in Python. The first divides integers, the second real numbers. We won't worry about that, though.\n",
    "\n",
    "Let us look first at the first part of the calculation, 10 * 9 * 8 * 7 * 6.\n",
    "\n",
    "This says multiply 10 by 9, then that by 8, then by 7, and finally by 6.\n",
    "\n",
    "That's quite a big number."
   ]
  },
  {
   "cell_type": "code",
   "execution_count": 15,
   "id": "96eb95ca",
   "metadata": {},
   "outputs": [
    {
     "data": {
      "text/plain": [
       "30240"
      ]
     },
     "execution_count": 15,
     "metadata": {},
     "output_type": "execute_result"
    }
   ],
   "source": [
    "10 * 9 * 8 * 7 * 6"
   ]
  },
  {
   "cell_type": "markdown",
   "id": "f0d53987",
   "metadata": {},
   "source": [
    "Here is the logic behind that part of the calculation.\n",
    "\n",
    "We start out to flip ten coins, so let's put ten placeholders (_) for the ten outcomes.\n",
    "\n",
    "_ _ _ _ _ _ _ _ _ _\n",
    "\n",
    "Once we start flipping coins, each of the ten 0's or 1's generated will go in each placeholder in turn.\n",
    "\n",
    "Suppose we flip the first coin and get a head.\n",
    "\n",
    "Then the placeholders look like this:\n",
    "\n",
    "1 _ _ _ _ _ _ _ _ _\n",
    "\n",
    "Okay, so let's reset the placeholders and think about the different places we can put 1's.\n",
    "\n",
    "_ _ _ _ _ _ _ _ _ _\n",
    "\n",
    "Remember we need exactly five 1's at the end - we need five placeholders containing 1's.\n",
    "\n",
    "Imagine you are numpy - you have to pick the five placeholders that will contain 1's.\n",
    "\n",
    "How many options do you have?\n",
    "\n",
    "Well, for the first 1, you can put it in the first placeholder, or the second, or any of the other eight.\n",
    "\n",
    "So you have ten choices - hence the 10 in the calculation above.\n",
    "\n",
    "Once you pick a location for the first 1, you have nine available placeholders left.\n",
    "\n",
    "So for the second 1 you need to place somewhere, you have 9 choices - hence the 9 in the above calculation.\n",
    "\n",
    "For the third 1, you have eight choices, for the fourth you have seven, and for the fifth 1 you are left with six choices.\n",
    "\n",
    "Once you place your sixth 1, all choice is gone - you have to put 0's in the remaining five placeholders so that you have exactly five 1's.\n",
    "\n",
    "Now, why multiply these numbers together as opposed to add them or something else?\n",
    "\n",
    "Well, for each choice of ten placeholders for the first 1, there are nine choices for the second 1.\n",
    "\n",
    "It is the for each that is important here - it implies we should multiply.\n",
    "\n",
    "Let us list all of the posibilities for positions of the first and second 1's to get the idea."
   ]
  },
  {
   "cell_type": "code",
   "execution_count": 17,
   "id": "a9bd9e05",
   "metadata": {},
   "outputs": [
    {
     "name": "stdout",
     "output_type": "stream",
     "text": [
      "( 1, 2)\n",
      "( 1, 3)\n",
      "( 1, 4)\n",
      "( 1, 5)\n",
      "( 1, 6)\n",
      "( 1, 7)\n",
      "( 1, 8)\n",
      "( 1, 9)\n",
      "( 1,10)\n",
      "( 2, 1)\n",
      "( 2, 3)\n",
      "( 2, 4)\n",
      "( 2, 5)\n",
      "( 2, 6)\n",
      "( 2, 7)\n",
      "( 2, 8)\n",
      "( 2, 9)\n",
      "( 2,10)\n",
      "( 3, 1)\n",
      "( 3, 2)\n",
      "( 3, 4)\n",
      "( 3, 5)\n",
      "( 3, 6)\n",
      "( 3, 7)\n",
      "( 3, 8)\n",
      "( 3, 9)\n",
      "( 3,10)\n",
      "( 4, 1)\n",
      "( 4, 2)\n",
      "( 4, 3)\n",
      "( 4, 5)\n",
      "( 4, 6)\n",
      "( 4, 7)\n",
      "( 4, 8)\n",
      "( 4, 9)\n",
      "( 4,10)\n",
      "( 5, 1)\n",
      "( 5, 2)\n",
      "( 5, 3)\n",
      "( 5, 4)\n",
      "( 5, 6)\n",
      "( 5, 7)\n",
      "( 5, 8)\n",
      "( 5, 9)\n",
      "( 5,10)\n",
      "( 6, 1)\n",
      "( 6, 2)\n",
      "( 6, 3)\n",
      "( 6, 4)\n",
      "( 6, 5)\n",
      "( 6, 7)\n",
      "( 6, 8)\n",
      "( 6, 9)\n",
      "( 6,10)\n",
      "( 7, 1)\n",
      "( 7, 2)\n",
      "( 7, 3)\n",
      "( 7, 4)\n",
      "( 7, 5)\n",
      "( 7, 6)\n",
      "( 7, 8)\n",
      "( 7, 9)\n",
      "( 7,10)\n",
      "( 8, 1)\n",
      "( 8, 2)\n",
      "( 8, 3)\n",
      "( 8, 4)\n",
      "( 8, 5)\n",
      "( 8, 6)\n",
      "( 8, 7)\n",
      "( 8, 9)\n",
      "( 8,10)\n",
      "( 9, 1)\n",
      "( 9, 2)\n",
      "( 9, 3)\n",
      "( 9, 4)\n",
      "( 9, 5)\n",
      "( 9, 6)\n",
      "( 9, 7)\n",
      "( 9, 8)\n",
      "( 9,10)\n",
      "(10, 1)\n",
      "(10, 2)\n",
      "(10, 3)\n",
      "(10, 4)\n",
      "(10, 5)\n",
      "(10, 6)\n",
      "(10, 7)\n",
      "(10, 8)\n",
      "(10, 9)\n",
      "Total combinations is 90.\n"
     ]
    }
   ],
   "source": [
    "# Number of combinations.\n",
    "no_combs = 0\n",
    "\n",
    "# Select the first position.\n",
    "for first in [1, 2, 3, 4, 5, 6, 7, 8, 9, 10]:\n",
    "    # Select the position for the second position.\n",
    "    for second in [1, 2, 3, 4, 5, 6, 7, 8, 9, 10]:\n",
    "        # Make sure the first and second positions are different.\n",
    "        if not first == second:\n",
    "            # Print the combination.\n",
    "            print(f'({first:2},{second:2})')\n",
    "            # Add one to number of combinations.\n",
    "            no_combs = no_combs + 1\n",
    "\n",
    "# Print total number of combinations.\n",
    "print(f'Total combinations is {no_combs}.')"
   ]
  },
  {
   "cell_type": "markdown",
   "id": "5a04962e",
   "metadata": {},
   "source": [
    "So, we see that when we have 10 choices for the first 1 and 9 for the second, we should multiply 10 and 9 to get the total number of combinations.\n",
    "\n",
    "Now, let us work out the second part of the calculation: 5 * 4 * 3 * 2 * 1.\n",
    "\n",
    "There is a clue in the output above.\n",
    "\n",
    "The first line says \"( 1, 2)\"\n",
    "\n",
    "That looks like this:\n",
    "\n",
    "1 1 _ _ _ _ _ _ _ _\n",
    "\n",
    "Now the tenth line is \"( 2, 1)\", which looks like this:\n",
    "\n",
    "1 1 _ _ _ _ _ _ _ _\n",
    "\n",
    "They're the same outcome - we have double counted it.\n",
    "\n",
    "In fact, if you inspect the list of all 90 combinations, you'll see that every outcome is counted twice.\n",
    "\n",
    "Hence, we need to divide the 90 by 2, to get 45 distinct placements of the first two 1's.\n",
    "\n",
    "Now, for each of those 45 placements of the first two 1's, we are going to triple count the placement of the third 1, so we have to divide by 3.\n",
    "\n",
    "There are too many possibilities to print, but look at this example.\n",
    "Let's use this example of 1 placements:\n",
    "\n",
    "1 _ _ 1 _ 1 _ _ _ _\n",
    "\n",
    "That can come from placing the third 1 in the correct position for each of these placements of two 1':\n",
    "\n",
    "1 _ _ 1 _ _ _ _ _ _ (Place the third 1 in the sixth placeholder.)\n",
    "\n",
    "1 _ _ _ _ 1 _ _ _ _ (Place the third 1 in the fourth placeholder.)\n",
    "\n",
    "_ _ _ 1 _ 1 _ _ _ _ (Place the third 1 in the first placeholder.)\n",
    "\n",
    "Likewise we will count each placement of the fourth 1 four times, and the fifth 1 five times.\n",
    "\n",
    "Thus we need to divide by both 4 and 5.\n",
    "\n",
    "Note the multiplication by 1 at the end is unnecessary - it just makes the formula look a big nicer.\n",
    "\n",
    "This gives division by 5 * 4 * 3 * 2 * 1."
   ]
  },
  {
   "cell_type": "markdown",
   "id": "212b73be",
   "metadata": {},
   "source": [
    "## Exercise 1 \n",
    "\n",
    "Is somewhat interesting that (5 * 4 * 3 * 2 * 1) perfectly divides (10 * 9 * 8 * 7 * 6) - there's no remainder.\n",
    "\n",
    "If we only wanted exactly four heads as opposed to five, the equivalent calculation would be (10 * 9 * 8 * 7) / (4 * 3 * 2 * 1).\n",
    "\n",
    "Does that evenly divide too? What is the formula in general?\n",
    "\n",
    "Does it always come out as a positive whole number?"
   ]
  },
  {
   "cell_type": "markdown",
   "id": "3c9f38a5",
   "metadata": {},
   "source": [
    "## Answer"
   ]
  },
  {
   "cell_type": "markdown",
   "id": "4d5c1837",
   "metadata": {},
   "source": [
    "# The Binomial Distribution\n",
    "The usual notation is:\n",
    "p = probability of success,\n",
    "q = probability of failure = 1 - p.\n",
    "\n",
    "Note that p + q = 1. \n",
    "\n",
    "In statistical terms, A Bernoulli trial is each repetition of an experiment\n",
    "involving only 2 outcomes.\n",
    "We are often interested in the result of independent, repeated bernoulli trials, i.e. the number of\n",
    "successes in repeated trials.\n",
    "\n",
    "1. independent - the result of one trial does not affect the result of another trial\n",
    "2. repeated - conditions are the same for each trial, i.e. p and q remain constant across trials. \n",
    "\n",
    "Hayes refers to this as a stationary process. If p and q can change from trial to trial,\n",
    "the process is nonstationary. The term identically distributed is also often used.\n",
    "\n",
    "A binomial distribution gives us the probabilities associated with independent, repeated\n",
    "Bernoulli trials. In a binomial distribution the probabilities of interest are those of receiving\n",
    "a certain number of successes, r, in n independent trials each having only two possible\n",
    "outcomes and the same probability, p, of success. \n",
    "So, we can determine the probability of getting 4 heads in 10 coin tosses.\n",
    "How does the binomial distribution do this? Basically, a two part process is involved. First, we\n",
    "have to determine the probability of one possible way the event can occur, and then determine\n",
    "the number of different ways the event can occur. \n",
    "\n",
    "P(Event) = (Number of ways event can occur) * P(One occurrence).\n",
    "\n",
    "In this case, we’ll call getting a heads a “success.” Also, in this case, n = 10, the number of successes is\n",
    "r = 4, and the number of failures (tails) is n – r = 10 – 4 = 6. One way this can occur is if the first\n",
    "4 tosses are heads and the last 6 are tails, i.e.\n",
    "\n",
    "S S S S F F F F F F\n",
    "The likelihood of this occurring is\n",
    "P(S) * P(S) * P(S) * P(S) * P(F) * P(F) * P(F) * P(F) * P(F) * P(F)\n",
    "\n",
    "More generally, if p = probability of success and q = 1 – p = probability of failure, the\n",
    "probability of a specific sequence of outcomes where there are r successes and n-r failures is:"
   ]
  },
  {
   "cell_type": "markdown",
   "id": "5eaa6c1c",
   "metadata": {},
   "source": [
    "$P^r Q^n-^r$"
   ]
  },
  {
   "cell_type": "markdown",
   "id": "2c661fc3",
   "metadata": {},
   "source": [
    "In this particular case, p = q = .5, r = 4, n-r = 6, so the probability of 4 straight heads followed\n",
    "by 6 straight tails is $.5^4$ $.5^6$ = 0.0009765625 (or 1 out of 1024)"
   ]
  },
  {
   "cell_type": "markdown",
   "id": "47f8e020",
   "metadata": {},
   "source": [
    "Are binomial distributions always positive?\n",
    "\n",
    "Whenever p = 0.5, the binomial distribution will be symmetrical, regardless of how large or small the value of n. However, when p ≠ 0.5, the distribution will be skewed. If p < 0.5, the distribution will be positive or right skewed. If p > 0.5, the distribution will be negative or left skewed."
   ]
  },
  {
   "cell_type": "code",
   "execution_count": null,
   "id": "ab63d947",
   "metadata": {},
   "outputs": [],
   "source": []
  },
  {
   "cell_type": "code",
   "execution_count": null,
   "id": "1e3da053",
   "metadata": {},
   "outputs": [],
   "source": []
  },
  {
   "cell_type": "code",
   "execution_count": null,
   "id": "2d6672e3",
   "metadata": {},
   "outputs": [],
   "source": []
  },
  {
   "cell_type": "code",
   "execution_count": null,
   "id": "52fc5fa9",
   "metadata": {},
   "outputs": [],
   "source": []
  },
  {
   "cell_type": "markdown",
   "id": "69f216b5",
   "metadata": {},
   "source": [
    "## Exercise 2\n",
    "\n",
    "Note that there are the same number of ways to get 4 tails as there to get 4 heads. Explain why this is."
   ]
  },
  {
   "cell_type": "markdown",
   "id": "57b69731",
   "metadata": {},
   "source": [
    "## Answer"
   ]
  },
  {
   "cell_type": "markdown",
   "id": "93d943d3",
   "metadata": {},
   "source": [
    "# Resources:\n",
    "1.https://www3.nd.edu/~rwilliam/stats1/x13.pdf\n",
    "\n",
    "2.https://www.oreilly.com/library/view/statistics-for-six/0132291959/0132291959_ch05lev2sec3.html"
   ]
  },
  {
   "cell_type": "code",
   "execution_count": null,
   "id": "e69112e7",
   "metadata": {},
   "outputs": [],
   "source": []
  }
 ],
 "metadata": {
  "kernelspec": {
   "display_name": "Python 3 (ipykernel)",
   "language": "python",
   "name": "python3"
  },
  "language_info": {
   "codemirror_mode": {
    "name": "ipython",
    "version": 3
   },
   "file_extension": ".py",
   "mimetype": "text/x-python",
   "name": "python",
   "nbconvert_exporter": "python",
   "pygments_lexer": "ipython3",
   "version": "3.9.12"
  }
 },
 "nbformat": 4,
 "nbformat_minor": 5
}
